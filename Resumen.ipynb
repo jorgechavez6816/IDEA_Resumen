{
 "cells": [
  {
   "cell_type": "code",
   "execution_count": 5,
   "metadata": {},
   "outputs": [],
   "source": [
    "import win32com.client as win32ComClient\n",
    "\n",
    "if __name__ == \"__main__\":\n",
    "    try:\n",
    "        dbName = \"Ejemplo-Detalle de ventas.IMD\"\n",
    "        idea = win32ComClient.Dispatch(dispatch=\"Idea.IdeaClient\")\n",
    "        db = idea.OpenDatabase(dbName)\n",
    "        task = db.Summarization()\n",
    "        task.AddFieldToSummarize(\"NUM_VENDEDOR\")\n",
    "        task.AddFieldToSummarize(\"COD_PROD\")\n",
    "        task.AddFieldToSummarize(\"NUM_CLI\")\n",
    "        task.AddFieldToTotal(\"NETO\")\n",
    "        task.AddFieldToTotal(\"IMPUESTO\")\n",
    "        task.AddFieldToTotal(\"TOTAL\")\n",
    "        task.CreatePercentField=False\n",
    "        task.StatisticsToInclude=2\n",
    "        task.criteria = \"\"\n",
    "        resultDbName = \"Resumen01.IMD\"\n",
    "        task.OutputDBName = resultDbName\n",
    "        task.PerformTask()\n",
    "        idea.OpenDatabase(resultDbName)\n",
    "    finally:\n",
    "        task = None\n",
    "        db = None\n",
    "        idea = None\n",
    "        \n",
    "#En la línea de task.StatisticsToInclude considerar:\n",
    "#Constante-Valor-Descripción\n",
    "#SM_SUM = 2 Suma\n",
    "#SM_MAX = 4 Máximo\n",
    "#SM_MIN = 8 Mínimo\n",
    "#SM_VARIANCE = 16 Varianza\n",
    "#SM_AVERAGE = 32 Promedio\n",
    "#SM_STD_DEV = 64 Desviación estándar\n"
   ]
  }
 ],
 "metadata": {
  "kernelspec": {
   "display_name": "Python 3",
   "language": "python",
   "name": "python3"
  },
  "language_info": {
   "codemirror_mode": {
    "name": "ipython",
    "version": 3
   },
   "file_extension": ".py",
   "mimetype": "text/x-python",
   "name": "python",
   "nbconvert_exporter": "python",
   "pygments_lexer": "ipython3",
   "version": "3.7.6"
  }
 },
 "nbformat": 4,
 "nbformat_minor": 4
}
